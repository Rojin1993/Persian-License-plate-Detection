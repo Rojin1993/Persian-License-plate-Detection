{
  "nbformat": 4,
  "nbformat_minor": 0,
  "metadata": {
    "colab": {
      "provenance": []
    },
    "kernelspec": {
      "name": "python3",
      "display_name": "Python 3"
    },
    "language_info": {
      "name": "python"
    }
  },
  "cells": [
    {
      "cell_type": "markdown",
      "source": [
        "Import the google drive to use it for downloading the model and folders of images."
      ],
      "metadata": {
        "id": "zvkwRB9Mc5kW"
      }
    },
    {
      "cell_type": "code",
      "execution_count": null,
      "metadata": {
        "id": "T83hWt5sX0VO"
      },
      "outputs": [],
      "source": [
        "from google.colab import drive\n",
        "drive.mount('/content/gdrive')"
      ]
    },
    {
      "cell_type": "markdown",
      "source": [
        "Enter google drive."
      ],
      "metadata": {
        "id": "Z0g2pn8GdOxw"
      }
    },
    {
      "cell_type": "code",
      "source": [
        "%cd /content/gdrive/MyDrive"
      ],
      "metadata": {
        "id": "mUh8NdH1aXb1"
      },
      "execution_count": null,
      "outputs": []
    },
    {
      "cell_type": "markdown",
      "source": [
        "Download yolov7 model and its requirements in google drive."
      ],
      "metadata": {
        "id": "9njRbqv6dmYw"
      }
    },
    {
      "cell_type": "code",
      "source": [
        "!git clone https://github.com/augmentedstartups/yolov7.git\n",
        "%cd yolov7\n",
        "!pip install -r requirements.txt"
      ],
      "metadata": {
        "id": "Ce_-hy7qafSs"
      },
      "execution_count": null,
      "outputs": []
    },
    {
      "cell_type": "markdown",
      "source": [
        "Import folders of train, test and validation data which made by roboflow and are combination of persian and english license plates from two different datasets."
      ],
      "metadata": {
        "id": "FgebnGQ5dpY5"
      }
    },
    {
      "cell_type": "code",
      "source": [
        "!pip install roboflow"
      ],
      "metadata": {
        "id": "lBh-2nPpajiF"
      },
      "execution_count": null,
      "outputs": []
    },
    {
      "cell_type": "code",
      "source": [
        "from roboflow import Roboflow\n",
        "rf = Roboflow(api_key=\"GAUSyfND9TKRqo3L6s3E\")\n",
        "project = rf.workspace(\"persianlicenseplatedetection\").project(\"lpd_ir\")\n",
        "dataset = project.version(1).download(\"yolov7\")"
      ],
      "metadata": {
        "id": "lddy36Zdapgz"
      },
      "execution_count": null,
      "outputs": []
    },
    {
      "cell_type": "markdown",
      "source": [
        "Download v0.1 of weights of yolov7 in google drive.\n",
        "\n",
        "---\n",
        "\n",
        "\n",
        "\n",
        "\n",
        "\n"
      ],
      "metadata": {
        "id": "Vu7wzkv8eKbm"
      }
    },
    {
      "cell_type": "code",
      "source": [
        "%%bash\n",
        "wget -P /content/gdrive/MyDrive/yolov7 https://github.com/WongKinYiu/yolov7/releases/download/v0.1/yolov7.pt"
      ],
      "metadata": {
        "id": "2759b7xvb1_l"
      },
      "execution_count": null,
      "outputs": []
    },
    {
      "cell_type": "markdown",
      "source": [
        "Train the model via datasets."
      ],
      "metadata": {
        "id": "ITLQYhSdeyhM"
      }
    },
    {
      "cell_type": "code",
      "source": [
        "!python train.py --batch 16 --cfg cfg/training/yolov7.yaml --epochs 20 --data /content/gdrive/MyDrive/yolov7/LPD_ir-1/data.yaml --weights 'yolov7.pt' --device 0 "
      ],
      "metadata": {
        "id": "k-kJtr94aueG"
      },
      "execution_count": null,
      "outputs": []
    },
    {
      "cell_type": "markdown",
      "source": [
        "If you want to just **detect** the license plates,run next cell ;and if you want to **detect and crop** the license plates for future works, run the the two cells after the next cell."
      ],
      "metadata": {
        "id": "8e_wbad0e3us"
      }
    },
    {
      "cell_type": "code",
      "source": [
        "!python detect.py --weights /content/gdrive/MyDrive/yolov7/runs/train/exp7/weights/best.pt --conf 0.1 --source /content/gdrive/MyDrive/yolov7/LPD_ir-1/test/images"
      ],
      "metadata": {
        "id": "wXc5ck82a16G"
      },
      "execution_count": null,
      "outputs": []
    },
    {
      "cell_type": "code",
      "source": [
        "%cd /content/gdrive/MyDrive\n",
        "!git clone https://github.com/RizwanMunawar/yolov7-object-cropping.git\n",
        "%cd yolov7-object-cropping\n",
        "!pip install -r requirements.txt"
      ],
      "metadata": {
        "id": "bxIauwF3a8M6"
      },
      "execution_count": null,
      "outputs": []
    },
    {
      "cell_type": "markdown",
      "source": [
        "Use the best weights to detect and crop. "
      ],
      "metadata": {
        "id": "AUH2srlrf656"
      }
    },
    {
      "cell_type": "code",
      "source": [
        "!python detect_and_crop.py --weights /content/gdrive/MyDrive/yolov7/runs/train/exp7/weights/best.pt --conf 0.1 --source /content/gdrive/MyDrive/yolov7/LPD_ir-1/test/images"
      ],
      "metadata": {
        "id": "2VfAOpQPct5v"
      },
      "execution_count": null,
      "outputs": []
    }
  ]
}